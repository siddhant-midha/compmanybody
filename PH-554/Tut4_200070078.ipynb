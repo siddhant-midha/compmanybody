{
 "cells": [
  {
   "cell_type": "markdown",
   "metadata": {},
   "source": [
    "# Tutorial 4"
   ]
  },
  {
   "cell_type": "markdown",
   "metadata": {},
   "source": [
    "\n",
    "-----------------------------------------------------------------------------------\n",
    "\n",
    "\n",
    "# Exact diagonalization (ED) of Fermi-Hubbard model:\n",
    "\n",
    "-----------------------------------------------------------------------------------\n",
    "\n",
    "**Fermi-Hubbard Model**:\n",
    "\n",
    "\n",
    "Hamiltonian is:\n",
    "\\begin{equation}\n",
    "\\mathcal{H} = t\\sum\\limits_{\\langle ij \\rangle,\\sigma}c^\\dagger_{i\\sigma}c_{j\\sigma} + U\\sum\\limits_{i }(n^\\uparrow_{i}-1/2)(n^\\downarrow_{i}-1/2)\n",
    "\\end{equation}\n",
    "where, $t$ is the hopping term, while $U$ is the on-site Hubbard (density-density) interaction term. And $c^\\dagger_{i\\sigma}, c_{i\\sigma}$ are the fermionic creation and annihilation operators for spin '$\\sigma$' (+1/2 or -1/2).\n",
    "        \n",
    "\n",
    "-----------------------------------------------------------------------------------\n",
    "**Hamiltonian Matrix:**\n",
    " \n",
    "   * Practical Implementation: \n",
    "        * **Diagonal matrix elements**: Since the basis is the number operator basis, so the density-density interaction term or the Hubbard term  is diagonal in a sector of Fock basis. e.g: a diagonal matrix element can be calculated as,\n",
    "       \n",
    "        $$H_{i,i} =\n",
    "        \\langle \\{0,0,1,...\\},\\{0,1,0,0...\\} | \\mathcal{H}_d | \\{0,0,1,...\\},\\{0,1,0,0,...\\} \\rangle$$\n",
    "        $$\\langle \\{0,0,1,...\\},\\{0,1,0,0...\\} | U (n^\\uparrow_{1}-1/2)(n^\\downarrow_{1}-1/2) | \\{0,0,1,...\\},\\{0,1,0,0,...\\} \\rangle  \\nonumber \\\\\n",
    "        = - U/4 $$\n",
    "        and so on. This is very similar to what has been done in earlier diagonalization notes.\n",
    "        \n",
    "        * **Off-diagonal matrix elements**: The hopping term (t) is off-diagonal within the sector since the hopping changes the sequence of numbers within the lists '$n_{\\uparrow,\\downarrow}$' leading to a different basis vector. \n",
    "        Also, we know that this is **tricky** because of the moves of the spins on the lattice that has to be antisymmetrized. Below is the idea to calculate off-diagonal matrix elements for spin-ups ($n^{\\uparrow}$ list), you can then implement in a similar fashion for spin-downs. \n",
    "        \n",
    "        Consider the following:\n",
    "        $c^\\dagger_{0,\\uparrow}c_{1,\\uparrow}|\\{0,1,1,0,...\\},\\{1,0,1,0,...\\}\\rangle$ \n",
    "        \n",
    "        For convenience we shall ignore the other spins list (and drop of the indices of spins) as the hopping is always between two same spins states.\n",
    "        \n",
    "        For fermions in the bulk: $c^\\dagger_0c_1|\\{0,1,1,0\\}\\rangle$ = $(c^\\dagger_0c_1)c^\\dagger_1c^\\dagger_2|\\{0,0,0,0\\}\\rangle$ = $c^\\dagger_0(1-c^\\dagger_1c_1)c^\\dagger_2|\\{0,0,0,0\\}\\rangle$ = $c^\\dagger_0c^\\dagger_2|\\{0,0,0,0\\}\\rangle$ = $|\\{1,0,1,0\\}\\rangle$\n",
    "        \n",
    "        For fermions at the chain boundary: $c^\\dagger_3c_0|\\{1,0,1,0\\}\\rangle = (c^\\dagger_3c_0)c^\\dagger_0c^\\dagger_2|\\{0,0,0,0\\}\\rangle=c^\\dagger_3(1-c^\\dagger_0c_0)c^\\dagger_2|\\{0,0,0,0\\}\\rangle$ =  $c^\\dagger_3c^\\dagger_2|\\{0,0,0,0\\}\\rangle$ = $-c^\\dagger_2c^\\dagger_3|\\{0,0,0,0\\}\\rangle$ =  $-|\\{0,0,1,1\\}\\rangle$\n",
    "        \n",
    "        **Notice the change of sign when the hopping is at the boundary. Make sure you understand in which femion gauge choice the above has been done.**\n",
    "\n",
    "        Hint: For nearest neighbor hoppings and for a chain lattice, the only problem of sign of calculating the off-diagonal matrix elements arise at the boundary. So, you can specially take care of this sign on the bond at the boundary in this case. \n",
    "   \n",
    "-----------------------------------------------------------------------------------   "
   ]
  },
  {
   "cell_type": "markdown",
   "metadata": {},
   "source": [
    "- Name: Siddhant Midha\n",
    "- Roll no.: 200070078\n",
    "- *Declaration*. I have adhered to the academic code of conduct and will do so in the future as well.\n",
    "\n"
   ]
  },
  {
   "cell_type": "code",
   "execution_count": 1,
   "metadata": {},
   "outputs": [],
   "source": [
    "import numpy as np \n",
    "import matplotlib.pyplot as plt \n",
    "from tqdm import tqdm\n",
    "from qutip import *\n",
    "from scipy.sparse import csr_matrix\n",
    "from numpy import sqrt, pi \n",
    "plt.rcParams.update({'font.size': 25 })\n",
    "plt.rc('text', usetex=True)\n",
    "plt.rc('font', family='serif')\n",
    "\n"
   ]
  },
  {
   "cell_type": "markdown",
   "metadata": {},
   "source": [
    "#  Solve the Fermi-Hubbard Hamiltonian using ED.\n",
    "## Problem 1:\n",
    "    1. Print the value of ground state energy for a system size of N=4,6\n",
    "       in a full Hilbert space.\n",
    "    2. Do the same within a fixed sector of particle conserving basis which the ground state\n",
    "       of the system falls into which you have to identify.\n",
    "    3. Try to plot the Energy levels (or spectrum) in a single plot. Just like 'bands'.\n"
   ]
  },
  {
   "cell_type": "code",
   "execution_count": 13,
   "metadata": {},
   "outputs": [],
   "source": [
    "#helper functions \n",
    "\n",
    "# full space dictionary (strings)\n",
    "def create_statedict_total(L):\n",
    "    D = int(2 ** L)  \n",
    "    states_dict = {}\n",
    "    ctr = 0\n",
    "    for i in range(D):\n",
    "        for j in range(D):\n",
    "            up = (bin(i)[2:])\n",
    "            down = (bin(j)[2:])\n",
    "            up = '0'*(L-len(up)) + up \n",
    "            down = '0'*(L-len(down)) + down \n",
    "            states_dict[ctr] = [up,down] \n",
    "            ctr += 1\n",
    "    return states_dict\n",
    "\n",
    "# spinless space dictionary (strings)\n",
    "def create_statedict_single(L):\n",
    "    d = 2 #local Hilbert space dimension\n",
    "    D = int(d ** L) #total Hilbert space direction\n",
    "    states_dict = {}\n",
    "    for i in range((D)):\n",
    "        state = bin(i)[2:]\n",
    "        state = '0'*(L-len(state)) + state \n",
    "        states_dict[i] = state \n",
    "    return states_dict\n",
    "\n",
    "# binary search for spinless space\n",
    "def find_ind_single(state,lookup):\n",
    "    #state is in binary\n",
    "    low = 0\n",
    "    high = len(lookup)\n",
    "    mid = int(len(lookup)/2)\n",
    "    while True:\n",
    "        if int(lookup[mid],2) < int(state,2):\n",
    "            low = mid\n",
    "            mid = int((low+high)/2)\n",
    "        elif int(lookup[mid],2) > int(state,2):\n",
    "            high = mid\n",
    "            mid = int((low+high)/2)\n",
    "        elif int(lookup[mid],2) == int(state,2):\n",
    "            return mid \n",
    "\n",
    "#binary search for full space\n",
    "def find_ind_full(state,lookup):\n",
    "    #state is a tuple of binaries\n",
    "    low = 0\n",
    "    high = len(lookup)\n",
    "    mid = int(len(lookup)/2)\n",
    "    while True:\n",
    "        if int(''.join(lookup[mid]),2) < int(''.join(state),2):\n",
    "            low = mid\n",
    "            mid = int((low+high)/2)\n",
    "        elif int(''.join(lookup[mid]),2) > int(''.join(state),2):\n",
    "            high = mid\n",
    "            mid = int((low+high)/2)\n",
    "        elif int(''.join(lookup[mid]),2) == int(''.join(state),2):\n",
    "            return mid \n",
    "\n",
    "#flip a state at specified sites\n",
    "def flipbits_single(state,i,j):\n",
    "    copystate = state \n",
    "    copystate = list(copystate)\n",
    "    bit_i = state[i]\n",
    "    bit_j = state[j]\n",
    "    if bit_i == '0':\n",
    "        copystate[i] = '1'\n",
    "    else:\n",
    "        copystate[i] = '0'\n",
    "    if bit_j == '0':\n",
    "        copystate[j] = '1'\n",
    "    else:\n",
    "        copystate[j] = '0'\n",
    "    copystate = ''.join(copystate)\n",
    "    return copystate\n",
    "\n",
    "# count number of excitations between two sites\n",
    "def count_excitations(state,site1,site2):\n",
    "    ctr = 0\n",
    "    for site in range(site1+1,site2):\n",
    "        ctr += state[site]\n",
    "    return ctr\n",
    "\n",
    "# spinless hamiltonian\n",
    "def singlespin_hamil(L,t):\n",
    "    D = 2 ** L\n",
    "    H_spin = np.zeros((D, D))\n",
    "    state_dict = create_statedict_single(L)\n",
    "    for site in range(L):\n",
    "        nbr_site = (site + 1) % L\n",
    "        for index in range(D):\n",
    "            state = state_dict[index]\n",
    "            nbr_index = find_ind_single(flipbits_single(state,site,nbr_site),state_dict)\n",
    "            sign = (-1) ** (count_excitations(state,site,nbr_site))\n",
    "            if state[site] == '0' and state[nbr_site] == '1':\n",
    "                H_spin[index, nbr_index] += t * sign\n",
    "            if state[site] == '1' and state[nbr_site] == '0':\n",
    "                H_spin[index, nbr_index] += t * sign\n",
    "    return H_spin\n",
    "\n",
    "# helper fn: returns G.S. e-val\n",
    "def return_gseval(mat):\n",
    "    v, vv = np.linalg.eigh(mat)\n",
    "    sorted_indices = np.argsort(v)\n",
    "    sorted_eigenvalues = v[sorted_indices]\n",
    "    return sorted_eigenvalues[0]\n",
    "\n",
    "# full hamiltonian USING spinless module\n",
    "def full_FH_hamil(L,t,U): \n",
    "    D = (4**L)\n",
    "    H_full = np.zeros((D,D))\n",
    "    state_dict = create_statedict_total(L)\n",
    "    H_spin = singlespin_hamil(L,t)\n",
    "    H_full = np.kron(np.eye(2 ** L),H_spin) + np.kron(H_spin,np.eye(2 ** L))\n",
    "    for index in range(D):\n",
    "        state = state_dict[index]\n",
    "        ups = list(state[0]) \n",
    "        ups = [int(x) for x in ups]\n",
    "        downs = list(state[1])\n",
    "        downs = [int(x) for x in downs]\n",
    "        ups = np.array(ups) - 0.5\n",
    "        downs = np.array(downs) - 0.5\n",
    "        mul = ups * downs\n",
    "        H_full[index, index] = np.sum(mul) * U\n",
    "    return H_full\n",
    "\n",
    "# full hamiltonian from scratch\n",
    "def full_FH_hamil_direct(L,t,U):\n",
    "    D = (4**L)\n",
    "    H_full = np.zeros((D,D))\n",
    "    state_dict = create_statedict_total(L)\n",
    "    for site in range(L):\n",
    "        nbr_site = (site + 1) % L\n",
    "        for index in range(D):\n",
    "            state = state_dict[index]\n",
    "            state_up = state[0]\n",
    "            state_down = state[1]\n",
    "\n",
    "            # for up\n",
    "            flipped = flipbits_single(state_up,site,nbr_site)\n",
    "            flipped_state = [flipped,state_down]\n",
    "            nbr_index = find_ind_full(flipped_state,state_dict)\n",
    "            sign = (-1) ** (count_excitations(state_up,site,nbr_site))\n",
    "            if state_up[site] == '0' and state_up[nbr_site] == '1':\n",
    "                H_full[index, nbr_index] += t * sign\n",
    "            if state_up[site] == '1' and state_up[nbr_site] == '0':\n",
    "                H_full[index, nbr_index] += t * sign\n",
    "\n",
    "            # for down\n",
    "            flipped = flipbits_single(state_down,site,nbr_site)\n",
    "            flipped_state = [state_up,flipped]\n",
    "            nbr_index = find_ind_full(flipped_state,state_dict)\n",
    "            sign = (-1) ** (count_excitations(state_down,site,nbr_site))\n",
    "            if state_down[site] == '0' and state_down[nbr_site] == '1':\n",
    "                H_full[index, nbr_index] += t * sign\n",
    "            if state_down[site] == '1' and state_down[nbr_site] == '0':\n",
    "                H_full[index, nbr_index] += t * sign\n",
    "\n",
    "            ups = list(state_up) \n",
    "            ups = [int(x) for x in ups]\n",
    "            downs = list(state_down)\n",
    "            downs = [int(x) for x in downs]\n",
    "            ups = np.array(ups) - 0.5\n",
    "            downs = np.array(downs) - 0.5\n",
    "            mul = ups * downs\n",
    "            H_full[index, index] = np.sum(mul) * U\n",
    "    return H_full\n",
    "\n",
    "\n"
   ]
  },
  {
   "cell_type": "code",
   "execution_count": 14,
   "metadata": {},
   "outputs": [
    {
     "data": {
      "text/plain": [
       "True"
      ]
     },
     "execution_count": 14,
     "metadata": {},
     "output_type": "execute_result"
    }
   ],
   "source": [
    "# check equivalence\n",
    "\n",
    "np.all(full_FH_hamil(L,t,U) == full_FH_hamil_direct(L,t,U))"
   ]
  },
  {
   "cell_type": "markdown",
   "metadata": {},
   "source": [
    "print ground state energies"
   ]
  },
  {
   "cell_type": "code",
   "execution_count": 15,
   "metadata": {},
   "outputs": [
    {
     "data": {
      "text/plain": [
       "-5.723265519527187"
      ]
     },
     "execution_count": 15,
     "metadata": {},
     "output_type": "execute_result"
    }
   ],
   "source": [
    "L = 4\n",
    "t = 1 \n",
    "U = 1\n",
    "state_dict = create_statedict_total(L)\n",
    "h = (full_FH_hamil(L,t,U))\n",
    "\n",
    "return_gseval(h)"
   ]
  },
  {
   "cell_type": "code",
   "execution_count": 16,
   "metadata": {},
   "outputs": [
    {
     "data": {
      "text/plain": [
       "-8.101158293375118"
      ]
     },
     "execution_count": 16,
     "metadata": {},
     "output_type": "execute_result"
    }
   ],
   "source": [
    "L = 6\n",
    "t = 1 \n",
    "U = 1\n",
    "state_dict = create_statedict_total(L)\n",
    "h = (full_FH_hamil(L,t,U))\n",
    "\n",
    "return_gseval(h)"
   ]
  },
  {
   "cell_type": "markdown",
   "metadata": {},
   "source": [
    "now, fix particle number"
   ]
  },
  {
   "cell_type": "code",
   "execution_count": 122,
   "metadata": {},
   "outputs": [],
   "source": [
    "def sum_str_single(str):\n",
    "    s = np.sum([int(bit) for bit in list(str)])\n",
    "    return s\n",
    "\n",
    "def create_statedict_fixedparticle(L,N=1):\n",
    "    D = int(2 ** L)  \n",
    "    states_dict = {}\n",
    "    ctr = 0\n",
    "    for i in range(D):\n",
    "        for j in range(D):\n",
    "            up = (bin(i)[2:])\n",
    "            down = (bin(j)[2:])\n",
    "            up = '0'*(L-len(up)) + up \n",
    "            down = '0'*(L-len(down)) + down \n",
    "            if(sum_str_single(up) + sum_str_single(down) == N): # fix particle number\n",
    "                states_dict[ctr] = [up,down] \n",
    "                ctr += 1\n",
    "    return states_dict\n",
    "\n",
    "# only doing for from scratch approach as it is easier to fix particle number in the whole space\n",
    "def full_FH_hamil_direct_fixedparticle(L,t,U,N):\n",
    "    \n",
    "    state_dict = create_statedict_fixedparticle(L,N)\n",
    "    D = len(state_dict)\n",
    "    H_full = np.zeros((D,D))\n",
    "    for site in range(L-1):\n",
    "        nbr_site = (site + 1) % L\n",
    "        for index in range(D):\n",
    "            state = state_dict[index]\n",
    "            state_up = state[0]\n",
    "            state_down = state[1]\n",
    "\n",
    "            # for up\n",
    "            flipped = flipbits_single(state_up,site,nbr_site)\n",
    "            flipped_state = [flipped,state_down]\n",
    "            \n",
    "            sign = (-1) ** (count_excitations(state_up,site,nbr_site))\n",
    "            if state_up[site] == '0' and state_up[nbr_site] == '1':\n",
    "                nbr_index = find_ind_full(flipped_state,state_dict)\n",
    "                H_full[index, nbr_index] += t * sign\n",
    "            if state_up[site] == '1' and state_up[nbr_site] == '0':\n",
    "                nbr_index = find_ind_full(flipped_state,state_dict)\n",
    "                H_full[index, nbr_index] += t * sign\n",
    "\n",
    "            # for down\n",
    "            flipped = flipbits_single(state_down,site,nbr_site)\n",
    "            flipped_state = [state_up,flipped]\n",
    "            sign = (-1) ** (count_excitations(state_down,site,nbr_site))\n",
    "            if state_down[site] == '0' and state_down[nbr_site] == '1':\n",
    "                nbr_index = find_ind_full(flipped_state,state_dict)\n",
    "                H_full[index, nbr_index] += t * sign\n",
    "            if state_down[site] == '1' and state_down[nbr_site] == '0':\n",
    "                nbr_index = find_ind_full(flipped_state,state_dict)\n",
    "                H_full[index, nbr_index] += t * sign\n",
    "\n",
    "            ups = list(state_up) \n",
    "            ups = [int(x) for x in ups]\n",
    "            downs = list(state_down)\n",
    "            downs = [int(x) for x in downs]\n",
    "            ups = np.array(ups) - 0.5\n",
    "            downs = np.array(downs) - 0.5\n",
    "            mul = ups * downs\n",
    "            H_full[index, index] = np.sum(mul) * U\n",
    "    return H_full"
   ]
  },
  {
   "cell_type": "markdown",
   "metadata": {},
   "source": [
    "now, GS energies"
   ]
  },
  {
   "cell_type": "code",
   "execution_count": 133,
   "metadata": {},
   "outputs": [
    {
     "data": {
      "text/plain": [
       "-4.575365620447477"
      ]
     },
     "execution_count": 133,
     "metadata": {},
     "output_type": "execute_result"
    }
   ],
   "source": [
    "L = 4\n",
    "t = 1 \n",
    "U = 1\n",
    "\n",
    "return_gseval(full_FH_hamil_direct_fixedparticle(L,t,U,N=4)) #half-filling GS energy matches!"
   ]
  },
  {
   "cell_type": "code",
   "execution_count": 134,
   "metadata": {},
   "outputs": [
    {
     "data": {
      "text/plain": [
       "-7.128893198968257"
      ]
     },
     "execution_count": 134,
     "metadata": {},
     "output_type": "execute_result"
    }
   ],
   "source": [
    "L = 6\n",
    "t = 1 \n",
    "U = 1\n",
    "\n",
    "return_gseval(full_FH_hamil_direct_fixedparticle(L,t,U,N=6))"
   ]
  },
  {
   "cell_type": "markdown",
   "metadata": {},
   "source": [
    "now, spectrum"
   ]
  },
  {
   "cell_type": "code",
   "execution_count": 136,
   "metadata": {},
   "outputs": [
    {
     "data": {
      "text/plain": [
       "Text(0, 0.5, 'spectrum')"
      ]
     },
     "execution_count": 136,
     "metadata": {},
     "output_type": "execute_result"
    },
    {
     "data": {
      "image/png": "[encoded data removed]",
      "text/plain": [
       "<Figure size 640x480 with 1 Axes>"
      ]
     },
     "metadata": {},
     "output_type": "display_data"
    }
   ],
   "source": [
    "for N in range(2*L):\n",
    "    v, _ = np.linalg.eig(full_FH_hamil_direct_fixedparticle(L,t,U,N=N))\n",
    "    v = np.sort(v)\n",
    "    for ww in v:\n",
    "        plt.scatter(x = N/(2*L), y = ww, color='red')\n",
    "\n",
    "\n",
    "plt.xlabel('filling fraction')\n",
    "plt.ylabel('spectrum')\n"
   ]
  },
  {
   "cell_type": "code",
   "execution_count": null,
   "metadata": {},
   "outputs": [],
   "source": []
  }
 ],
 "metadata": {
  "kernelspec": {
   "display_name": "Python 3 (ipykernel)",
   "language": "python",
   "name": "python3"
  },
  "language_info": {
   "codemirror_mode": {
    "name": "ipython",
    "version": 3
   },
   "file_extension": ".py",
   "mimetype": "text/x-python",
   "name": "python",
   "nbconvert_exporter": "python",
   "pygments_lexer": "ipython3",
   "version": "3.11.3"
  }
 },
 "nbformat": 4,
 "nbformat_minor": 4
}
