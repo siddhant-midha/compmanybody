{
 "cells": [
  {
   "cell_type": "markdown",
   "id": "4c00e45c",
   "metadata": {},
   "source": [
    "# Tutorial 5\n",
    "\n",
    "- Name: Siddhant Midha\n",
    "- Roll no.: 200070078\n",
    "- *Declaration*. I have adhered to the academic code of conduct and will do so in the future as well."
   ]
  },
  {
   "cell_type": "code",
   "execution_count": 1,
   "id": "66e66b58",
   "metadata": {},
   "outputs": [],
   "source": [
    "import numpy as np \n",
    "import matplotlib.pyplot as plt \n",
    "from tqdm import tqdm\n",
    "from numpy import sqrt, pi\n",
    "plt.rcParams.update({'font.size': 22 })\n",
    "plt.rc('text', usetex=True)\n",
    "plt.rc('font', family='serif')\n",
    "from scipy.sparse import csr_matrix\n",
    "from qutip import *\n",
    "import scipy"
   ]
  },
  {
   "cell_type": "markdown",
   "id": "786994b4",
   "metadata": {},
   "source": [
    "# Hartree-Fock Mean-field theory\n",
    "\n",
    "**Fermi-Hubbard Model**\n",
    "\n",
    "\n",
    "Hamiltonian is:\n",
    "\\begin{equation}\n",
    "\\mathcal{H} = -t\\sum\\limits_{\\langle ij \\rangle,\\sigma}(\\hat{c}^\\dagger_{i\\sigma}\\hat{c}_{j\\sigma} + h.c)  + U\\sum\\limits_{i }(\\hat{n}_{i,\\uparrow}-1/2)(\\hat{n}_{i,\\downarrow}-1/2) - \\mu\\sum_{i}(\\hat{n}_{i,\\uparrow} + \\hat{n}_{i,\\downarrow})\n",
    "\\end{equation}\n",
    "where, t is the hopping term, while U is the on-site Hubbard (density-density) interaction term. $\\mu$ is the chemical potential for the system. $c^\\dagger_{i\\sigma}, c_{i\\sigma}$ are the usual fermionic creation and annihilation operators for spin '$\\sigma$' (+1/2 or -1/2).\n",
    "\n",
    "-------------------------\n",
    "\n",
    "**Aim**: To find the ground states using Hartree-Fock mean-field approximation to the Hubbard term.\n",
    "\n",
    "-------------------------\n",
    "\n",
    "#### Mean-Field approximation\n",
    "\n",
    "\n",
    "Hartree-Fock Decoupling scheme of the Hubbard term (Mean-field):\n",
    "\n",
    "\\begin{equation}\n",
    "(\\hat{n}_{i,\\sigma}-1/2)(\\hat{n}_{i,\\sigma^\\prime}-1/2) \\approx \\langle (\\hat{n}_{i,\\sigma}-1/2) \\rangle (\\hat{n}_{i,\\sigma^\\prime}-1/2) +  (\\hat{n}_{i,\\sigma}-1/2)\\langle (\\hat{n}_{i,\\sigma^\\prime}-1/2) \\rangle  - \\langle (\\hat{n}_{i,\\sigma}-1/2) \\rangle \\langle (\\hat{n}_{i,\\sigma^\\prime} -1/2)\\rangle.\n",
    "\\end{equation}\n",
    "\n",
    "Where, $\\langle ... \\rangle$ denotes the expectation value w.r.t to the ground state (at zero temperatures). \n",
    "\n",
    "Substituting the above mean-field scheme into the Hamiltonian we get,\n",
    "\\begin{equation}\n",
    "\\mathcal{H}_{MF} = - t\\sum\\limits_{\\langle ij \\rangle,\\sigma}\\hat{c}^\\dagger_{i\\sigma}\\hat{c}_{j\\sigma} + h.c  - \\sum_{i}( \\tilde{\\mu}_{i,\\uparrow}\\hat{n}_{i,\\uparrow} +  \\tilde{\\mu}_{i,\\downarrow}\\hat{n}_{i,\\downarrow}),\n",
    "\\end{equation}\n",
    "where,\n",
    "\\begin{equation}\n",
    "\\tilde{\\mu}_{i,\\uparrow} = \\mu - U(\\langle n_{i,\\downarrow} \\rangle -1/2), \\quad \\tilde{\\mu}_{i,\\downarrow} = \\mu - U(\\langle n_{i,\\uparrow}\\rangle-1/2)\n",
    "\\end{equation}\n",
    "\n",
    "Note that $\\mathcal{H}_{MF}$ is block-diagonal in the spin index $\\sigma$. Note also that the up spins effective chemical potential is related to down spins occupation number. The information of Hubbard interaction is stored as mean-fields in this way.\n",
    "\n",
    "**Implementation of Mean-field scheme**\n",
    "\n",
    "   1. Start with random $\\{\\langle n_{i,\\sigma}\\rangle\\}$ ordering (or some other ordering).  \n",
    "   2. Diagonalize the Hamiltonian with the newly transformed single particle basis denoted as $D$, such that $C = TD$.\n",
    "   \n",
    "$$C^\\dagger = (C^\\dagger_\\uparrow, C^\\dagger_\\downarrow)$$\n",
    "$$C^\\dagger_{\\sigma} = (\\hat{c}^\\dagger_{1,\\sigma}, \\hat{c}^\\dagger_{2,\\sigma},... , \\hat{c}^\\dagger_{N,\\sigma})$$\n",
    "           \n",
    "Due to the block-diagonal structure in the spin index, even $T$ will be block-diagonal in the same index. Practically, you can independently diagonalize the two blocks if you wish. Also, the above diagonalization can be performed in the single-particle sector itself (thereby making the fermion sign issue moot in this tutorial as opposed to the previous tutorial), and then correctly filling as many single-particle eigenstates (\"from the bottom\") up to the correct number of fermions.\n",
    "           \n",
    "   3. Calculate the new values of $\\{\\langle n_{i,\\sigma}\\rangle\\}$ by taking the ground state ($\\psi_0$) expectation value as,\n",
    "   \n",
    "$$\\langle n_{i,\\sigma}\\rangle = \\langle \\psi_0 | \\hat{n}_{i,\\sigma}  |\\psi_0 \\rangle$$\n",
    "  $$|\\psi_0 \\rangle = \\prod_{\\lambda,\\sigma \\; \\in \\; \\text{occ. single-particle levels}} \\hat{d}^\\dagger_{\\lambda,\\sigma} | 0 \\rangle \\quad \\quad$$\n",
    "           \n",
    "where the ground state is in the correct filling sector (half filled fermionic sector, e.g. for N=4, #fermions=4, etc.). **Note, due to difference in $\\tilde{\\mu}_{i,\\uparrow}$ and $\\tilde{\\mu}_{i,\\downarrow}$, the number of occupied up-spin single-particle states may be different than down-spin single-particle states**.\n",
    "           \n",
    "   4. Check convergence (w.r.t previous iteration) is achieved or not with a tolerance (e.g. 1e-6).\n",
    "       * If converged: STOP\n",
    "       * If not go to step 2 and repeat untill the above untill converged.\n",
    "       \n",
    "   **Note : Stable state correspond to convergence of both on-site mean fields and total energy.**\n",
    "       "
   ]
  },
  {
   "cell_type": "markdown",
   "id": "d08920f9",
   "metadata": {},
   "source": [
    "## Exercise 1: 2D Hubbard model (Take a 4x4 lattice)\n",
    "   \n",
    "   * Plot the convergence of on-site HF mean-fields and total (HF mean-field) energy versus no. of iterations.\n",
    "     In Step 1 mentioned above, along with initializing to random spin arrangements, also consider three specific initial orderings and check for convergence:\n",
    "     \n",
    "     1. charge ordering : This arrangement is characterized by assigning electron densities to each site \n",
    "        i and spin $\\sigma$ based on a specific pattern. For example : $ n_{i,\\sigma}= n_{i,\\sigma^{'}}=           0.6*(i $%$ 2) + 0.4*((i+1)$%$2) $\n",
    "        \n",
    "     2. anti-ferro ordering : In this configuration, the electron density at each site alternates between two      values in an anti-ferromagnetic pattern. For example: $ n_{i,\\sigma} = 0.9*(i$%$2) + 0.1*((i+1)$%$2)$ and      $n_{i,\\sigma^{'}}=1-n_{i,\\sigma}$\n",
    "     \n",
    "     3. ferro ordering :Here, all spins are aligned, leading to a uniform electron density distribution. For example : $ n_{i,\\sigma} = 0.9$ and $n_{i,\\sigma^{'}}=1-n_{i,\\sigma}$\n",
    "     \n",
    "<!--      Find the energy for each ordering and check which one gives the lowest energy. -->\n",
    "     \n",
    "     \n",
    "   * Obtain the ground state energy and the ground state ordering corresponding to the \"half filling\" case for different $U = 0.1,0.5,1.0,2.0,5.0$. Take $\\mu = 0$.\n",
    "   \n",
    "   * Now take a chain of length L = 4 at half filling. How does the HF approximation compare with full ED solution for different $U$ values?\n",
    "     \n",
    "        **Note HF will naturally be a good approximation when U is small, since U -> 0 is a effectively single-particle Hamiltonian .**"
   ]
  },
  {
   "cell_type": "code",
   "execution_count": 93,
   "id": "78be4ca5",
   "metadata": {},
   "outputs": [],
   "source": [
    "def h_1d(t,mu_arr):\n",
    "    L = len(mu_arr)\n",
    "    h = np.diag(mu_arr) + (-t) * (np.diag(np.ones(L-1),1) + np.diag(np.ones(L-1),-1))\n",
    "    return h\n",
    "\n",
    "def hop_1d(t,L):\n",
    "    return -t * np.eye(L)\n",
    "\n",
    "def h_2d(t,mu_mat):\n",
    "    L, L = np.shape(mu_mat)\n",
    "    h = np.zeros((L ** 2, L ** 2))\n",
    "    for i in range(L): #iterating rows\n",
    "        h[i * L : (i+1) * L,i * L : (i+1) * L] = h_1d(t,mu_mat[i,:]) #might need to change i,: to :,i\n",
    "    h += np.kron(np.diag(np.ones(L-1),1)+ np.diag(np.ones(L-1),-1),hop_1d(t,L))\n",
    "    return h\n",
    "\n",
    "def get_nmat(psi2d):\n",
    "    twoLsquare = len(psi2d)\n",
    "    L = int(sqrt(twoLsquare/2))\n",
    "    nmat = np.zeros((L,L,2))\n",
    "\n",
    "    for k in range(L**2): \n",
    "        # index to 2D mat mapping\n",
    "        row = k // L \n",
    "        column = k % L \n",
    "\n",
    "        n_op_up = np.zeros((twoLsquare,twoLsquare))\n",
    "        n_op_down = np.zeros((twoLsquare,twoLsquare))\n",
    "        n_op_up[k,k] = 1 \n",
    "        n_op_down[k+L**2,k+L**2] = 1 \n",
    "\n",
    "        exp_val_up = n_op_up @ psi2d \n",
    "        exp_val_up = np.conjugate(np.transpose(psi2d)) @ exp_val_up #should be a scalar now\n",
    "        nmat[row,column,0] = exp_val_up\n",
    "\n",
    "        exp_val_down = n_op_down @ psi2d \n",
    "        exp_val_down = np.conjugate(np.transpose(psi2d)) @ exp_val_down #should be a scalar now\n",
    "        nmat[row,column,1] = exp_val_down\n",
    "\n",
    "    return nmat\n",
    "\n",
    "def get_new_mu(psi2darr,U,mu):\n",
    "    twoLsq, num_states = np.shape(psi2darr)\n",
    "    L = int(sqrt(twoLsq/2))\n",
    "    nmat = np.zeros((L,L,2))\n",
    "    for i in range(num_states):\n",
    "        nmat += get_nmat(psi2darr[:,i])\n",
    "    newmu = mu - U * (nmat - 0.5)\n",
    "    return newmu "
   ]
  },
  {
   "cell_type": "markdown",
   "id": "cf4cdb94",
   "metadata": {},
   "source": [
    "# random ordering"
   ]
  },
  {
   "cell_type": "code",
   "execution_count": 94,
   "id": "0aef3be1",
   "metadata": {},
   "outputs": [],
   "source": [
    "mu = 0 \n",
    "U = 1\n",
    "t = 1 \n",
    "L = 4\n",
    "n_up_init = np.random.rand(L,L)\n",
    "n_down_init = np.random.rand(L,L)\n",
    "n_mat_init = np.zeros((L,L,2))\n",
    "n_mat_init[:,:,0] = n_up_init \n",
    "n_mat_init[:,:,1] = n_down_init \n",
    "\n",
    "mu_init = mu - U * (n_mat_init - 1/2)\n",
    "\n",
    "h_up = h_2d(t,mu_init[:,:,0])\n",
    "h_down = h_2d(t,mu_init[:,:,1])\n",
    "\n",
    "h = np.kron([[1,0],[0,0]],h_up) + np.kron([[0,0],[0,1]],h_down)\n",
    "eigenvalues, eigenvectors = np.linalg.eig(h)\n",
    "sorted_indices = np.argsort(eigenvalues)\n",
    "sorted_eigenvalues= eigenvalues[sorted_indices]\n",
    "sorted_eigenvectors= eigenvectors[:, sorted_indices]\n",
    "gs_energy_init = np.sum(sorted_eigenvalues[:L**2])\n",
    "\n",
    "\n",
    "conv_fields = 100\n",
    "conv_fields_arr = []\n",
    "\n",
    "conv_energy = 100\n",
    "conv_energy_arr = []\n",
    "\n",
    "while conv_fields + conv_energy > 1e-12:\n",
    "    h_up = h_2d(t,mu_init[:,:,0])\n",
    "    h_down = h_2d(t,mu_init[:,:,1])\n",
    "\n",
    "    h = np.kron([[1,0],[0,0]],h_up) + np.kron([[0,0],[0,1]],h_down)\n",
    "    eigenvalues, eigenvectors = np.linalg.eig(h)\n",
    "    sorted_indices = np.argsort(eigenvalues)\n",
    "    sorted_eigenvalues= eigenvalues[sorted_indices]\n",
    "    sorted_eigenvectors= eigenvectors[:, sorted_indices]\n",
    "    gs_energy_new = np.sum(sorted_eigenvalues[:L**2])\n",
    "\n",
    "    new_mu = get_new_mu(sorted_eigenvectors[:,:L**2],U,mu)\n",
    "\n",
    "    conv_fields = np.linalg.norm(new_mu-mu_init)\n",
    "    conv_energy = np.linalg.norm(gs_energy_new - gs_energy_init)\n",
    "    gs_energy_init = gs_energy_new\n",
    "    mu_init = new_mu\n",
    "    conv_fields_arr.append(conv_fields)\n",
    "    conv_energy_arr.append(conv_energy)"
   ]
  },
  {
   "cell_type": "code",
   "execution_count": 98,
   "id": "a0d0fcd9",
   "metadata": {},
   "outputs": [
    {
     "data": {
      "text/plain": [
       "<matplotlib.legend.Legend at 0x16c5512d0>"
      ]
     },
     "execution_count": 98,
     "metadata": {},
     "output_type": "execute_result"
    },
    {
     "data": {
      "image/png": "[encoded data removed]",
      "text/plain": [
       "<Figure size 640x480 with 1 Axes>"
      ]
     },
     "metadata": {},
     "output_type": "display_data"
    }
   ],
   "source": [
    "plt.plot(conv_fields_arr,label='mean fields',linewidth=3)\n",
    "plt.plot(conv_energy_arr,label='GS energies',linewidth=3)\n",
    "plt.xlabel('iteration')\n",
    "plt.ylabel('convergence')\n",
    "plt.legend()"
   ]
  },
  {
   "cell_type": "markdown",
   "id": "5a4e4122",
   "metadata": {},
   "source": [
    "# charge ordering"
   ]
  },
  {
   "cell_type": "code",
   "execution_count": 99,
   "id": "2c36181b",
   "metadata": {},
   "outputs": [],
   "source": [
    "mu = 0 \n",
    "U = 1\n",
    "t = 1 \n",
    "L = 4\n",
    "n_up_init = np.zeros((L,L))\n",
    "for k in range(L**2):\n",
    "    row = k // L \n",
    "    column = k % L \n",
    "    n_up_init[row, column] = 0.6*(k % 2) + 0.4*((k+1)%2)\n",
    "    \n",
    "n_down_init = n_up_init\n",
    "n_mat_init = np.zeros((L,L,2))\n",
    "n_mat_init[:,:,0] = n_up_init \n",
    "n_mat_init[:,:,1] = n_down_init \n",
    "\n",
    "mu_init = mu - U * (n_mat_init - 1/2)\n",
    "\n",
    "h_up = h_2d(t,mu_init[:,:,0])\n",
    "h_down = h_2d(t,mu_init[:,:,1])\n",
    "\n",
    "h = np.kron([[1,0],[0,0]],h_up) + np.kron([[0,0],[0,1]],h_down)\n",
    "eigenvalues, eigenvectors = np.linalg.eig(h)\n",
    "sorted_indices = np.argsort(eigenvalues)\n",
    "sorted_eigenvalues= eigenvalues[sorted_indices]\n",
    "sorted_eigenvectors= eigenvectors[:, sorted_indices]\n",
    "gs_energy_init = np.sum(sorted_eigenvalues[:L**2])\n",
    "\n",
    "\n",
    "conv_fields = 100\n",
    "conv_fields_arr = []\n",
    "\n",
    "conv_energy = 100\n",
    "conv_energy_arr = []\n",
    "\n",
    "while conv_fields + conv_energy > 1e-12:\n",
    "    h_up = h_2d(t,mu_init[:,:,0])\n",
    "    h_down = h_2d(t,mu_init[:,:,1])\n",
    "\n",
    "    h = np.kron([[1,0],[0,0]],h_up) + np.kron([[0,0],[0,1]],h_down)\n",
    "    eigenvalues, eigenvectors = np.linalg.eig(h)\n",
    "    sorted_indices = np.argsort(eigenvalues)\n",
    "    sorted_eigenvalues= eigenvalues[sorted_indices]\n",
    "    sorted_eigenvectors= eigenvectors[:, sorted_indices]\n",
    "    gs_energy_new = np.sum(sorted_eigenvalues[:L**2])\n",
    "\n",
    "    new_mu = get_new_mu(sorted_eigenvectors[:,:L**2],U,mu)\n",
    "\n",
    "    conv_fields = np.linalg.norm(new_mu-mu_init)\n",
    "    conv_energy = np.linalg.norm(gs_energy_new - gs_energy_init)\n",
    "    gs_energy_init = gs_energy_new\n",
    "    mu_init = new_mu\n",
    "    conv_fields_arr.append(conv_fields)\n",
    "    conv_energy_arr.append(conv_energy)"
   ]
  },
  {
   "cell_type": "code",
   "execution_count": 100,
   "id": "f91a0828",
   "metadata": {},
   "outputs": [
    {
     "data": {
      "text/plain": [
       "<matplotlib.legend.Legend at 0x16c5272d0>"
      ]
     },
     "execution_count": 100,
     "metadata": {},
     "output_type": "execute_result"
    },
    {
     "data": {
      "image/png": "[encoded data removed]",
      "text/plain": [
       "<Figure size 640x480 with 1 Axes>"
      ]
     },
     "metadata": {},
     "output_type": "display_data"
    }
   ],
   "source": [
    "plt.plot(conv_fields_arr,label='mean fields',linewidth=3)\n",
    "plt.plot(conv_energy_arr,label='GS energies',linewidth=3)\n",
    "plt.xlabel('iteration')\n",
    "plt.ylabel('convergence')\n",
    "plt.legend()"
   ]
  },
  {
   "cell_type": "markdown",
   "id": "cd9bc994",
   "metadata": {},
   "source": [
    "# af ordering"
   ]
  },
  {
   "cell_type": "code",
   "execution_count": 101,
   "id": "aa728bd2",
   "metadata": {},
   "outputs": [],
   "source": [
    "mu = 0 \n",
    "U = 1\n",
    "t = 1 \n",
    "L = 4\n",
    "n_up_init = np.zeros((L,L))\n",
    "for k in range(L**2):\n",
    "    row = k // L \n",
    "    column = k % L \n",
    "    n_up_init[row, column] = 0.9*(k%2) + 0.1*((k+1)%2)\n",
    "    \n",
    "n_down_init = 1 - n_up_init\n",
    "n_mat_init = np.zeros((L,L,2))\n",
    "n_mat_init[:,:,0] = n_up_init \n",
    "n_mat_init[:,:,1] = n_down_init \n",
    "\n",
    "mu_init = mu - U * (n_mat_init - 1/2)\n",
    "\n",
    "h_up = h_2d(t,mu_init[:,:,0])\n",
    "h_down = h_2d(t,mu_init[:,:,1])\n",
    "\n",
    "h = np.kron([[1,0],[0,0]],h_up) + np.kron([[0,0],[0,1]],h_down)\n",
    "eigenvalues, eigenvectors = np.linalg.eig(h)\n",
    "sorted_indices = np.argsort(eigenvalues)\n",
    "sorted_eigenvalues= eigenvalues[sorted_indices]\n",
    "sorted_eigenvectors= eigenvectors[:, sorted_indices]\n",
    "gs_energy_init = np.sum(sorted_eigenvalues[:L**2])\n",
    "\n",
    "\n",
    "conv_fields = 100\n",
    "conv_fields_arr = []\n",
    "\n",
    "conv_energy = 100\n",
    "conv_energy_arr = []\n",
    "\n",
    "while conv_fields + conv_energy > 1e-12:\n",
    "    h_up = h_2d(t,mu_init[:,:,0])\n",
    "    h_down = h_2d(t,mu_init[:,:,1])\n",
    "\n",
    "    h = np.kron([[1,0],[0,0]],h_up) + np.kron([[0,0],[0,1]],h_down)\n",
    "    eigenvalues, eigenvectors = np.linalg.eig(h)\n",
    "    sorted_indices = np.argsort(eigenvalues)\n",
    "    sorted_eigenvalues= eigenvalues[sorted_indices]\n",
    "    sorted_eigenvectors= eigenvectors[:, sorted_indices]\n",
    "    gs_energy_new = np.sum(sorted_eigenvalues[:L**2])\n",
    "\n",
    "    new_mu = get_new_mu(sorted_eigenvectors[:,:L**2],U,mu)\n",
    "\n",
    "    conv_fields = np.linalg.norm(new_mu-mu_init)\n",
    "    conv_energy = np.linalg.norm(gs_energy_new - gs_energy_init)\n",
    "    gs_energy_init = gs_energy_new\n",
    "    mu_init = new_mu\n",
    "    conv_fields_arr.append(conv_fields)\n",
    "    conv_energy_arr.append(conv_energy)"
   ]
  },
  {
   "cell_type": "code",
   "execution_count": 102,
   "id": "786b1c53",
   "metadata": {},
   "outputs": [
    {
     "data": {
      "text/plain": [
       "<matplotlib.legend.Legend at 0x16c8c6110>"
      ]
     },
     "execution_count": 102,
     "metadata": {},
     "output_type": "execute_result"
    },
    {
     "data": {
      "image/png": "[encoded data removed]",
      "text/plain": [
       "<Figure size 640x480 with 1 Axes>"
      ]
     },
     "metadata": {},
     "output_type": "display_data"
    }
   ],
   "source": [
    "plt.plot(conv_fields_arr,label='mean fields',linewidth=3)\n",
    "plt.plot(conv_energy_arr,label='GS energies',linewidth=3)\n",
    "plt.xlabel('iteration')\n",
    "plt.ylabel('convergence')\n",
    "plt.legend()"
   ]
  },
  {
   "cell_type": "markdown",
   "id": "d725c935",
   "metadata": {},
   "source": [
    "# ferro ordering"
   ]
  },
  {
   "cell_type": "code",
   "execution_count": 106,
   "id": "f8435f29",
   "metadata": {},
   "outputs": [],
   "source": [
    "mu = 0 \n",
    "U = 1\n",
    "t = 1 \n",
    "L = 4\n",
    "n_up_init = np.zeros((L,L)) + 0.9\n",
    "n_down_init = 1 - n_up_init\n",
    "n_mat_init = np.zeros((L,L,2))\n",
    "n_mat_init[:,:,0] = n_up_init \n",
    "n_mat_init[:,:,1] = n_down_init \n",
    "\n",
    "mu_init = mu - U * (n_mat_init - 1/2)\n",
    "\n",
    "h_up = h_2d(t,mu_init[:,:,0])\n",
    "h_down = h_2d(t,mu_init[:,:,1])\n",
    "\n",
    "h = np.kron([[1,0],[0,0]],h_up) + np.kron([[0,0],[0,1]],h_down)\n",
    "eigenvalues, eigenvectors = np.linalg.eig(h)\n",
    "sorted_indices = np.argsort(eigenvalues)\n",
    "sorted_eigenvalues= eigenvalues[sorted_indices]\n",
    "sorted_eigenvectors= eigenvectors[:, sorted_indices]\n",
    "gs_energy_init = np.sum(sorted_eigenvalues[:L**2])\n",
    "\n",
    "\n",
    "conv_fields = 100\n",
    "conv_fields_arr = []\n",
    "\n",
    "conv_energy = 100\n",
    "conv_energy_arr = []\n",
    "ctr = 0\n",
    "while conv_fields + conv_energy > 1e-6:\n",
    "    h_up = h_2d(t,mu_init[:,:,0])\n",
    "    h_down = h_2d(t,mu_init[:,:,1])\n",
    "\n",
    "    h = np.kron([[1,0],[0,0]],h_up) + np.kron([[0,0],[0,1]],h_down)\n",
    "    eigenvalues, eigenvectors = np.linalg.eig(h)\n",
    "    sorted_indices = np.argsort(eigenvalues)\n",
    "    sorted_eigenvalues= eigenvalues[sorted_indices]\n",
    "    sorted_eigenvectors= eigenvectors[:, sorted_indices]\n",
    "    gs_energy_new = np.sum(sorted_eigenvalues[:L**2])\n",
    "\n",
    "    new_mu = get_new_mu(sorted_eigenvectors[:,:L**2],U,mu)\n",
    "\n",
    "    conv_fields = np.linalg.norm(new_mu-mu_init)\n",
    "    conv_energy = np.linalg.norm(gs_energy_new - gs_energy_init)\n",
    "    gs_energy_init = gs_energy_new\n",
    "    mu_init = new_mu\n",
    "    conv_fields_arr.append(conv_fields)\n",
    "    conv_energy_arr.append(conv_energy)"
   ]
  },
  {
   "cell_type": "code",
   "execution_count": 107,
   "id": "2995480a",
   "metadata": {},
   "outputs": [
    {
     "data": {
      "text/plain": [
       "<matplotlib.legend.Legend at 0x16c8e6c90>"
      ]
     },
     "execution_count": 107,
     "metadata": {},
     "output_type": "execute_result"
    },
    {
     "data": {
      "image/png": "[encoded data removed]",
      "text/plain": [
       "<Figure size 640x480 with 1 Axes>"
      ]
     },
     "metadata": {},
     "output_type": "display_data"
    }
   ],
   "source": [
    "plt.plot(conv_fields_arr,label='mean fields',linewidth=3)\n",
    "plt.plot(conv_energy_arr,label='GS energies',linewidth=3)\n",
    "plt.xlabel('iteration')\n",
    "plt.ylabel('convergence')\n",
    "plt.legend()"
   ]
  },
  {
   "cell_type": "code",
   "execution_count": null,
   "id": "4441ba04",
   "metadata": {},
   "outputs": [],
   "source": []
  },
  {
   "cell_type": "code",
   "execution_count": 129,
   "id": "c817d09a",
   "metadata": {},
   "outputs": [],
   "source": [
    "def do_HF(U):\n",
    "    mu = 0 \n",
    "    t = 1 \n",
    "    L = 4\n",
    "    n_up_init = np.random.rand(L,L)\n",
    "    n_down_init = np.random.rand(L,L)\n",
    "    n_mat_init = np.zeros((L,L,2))\n",
    "    n_mat_init[:,:,0] = n_up_init \n",
    "    n_mat_init[:,:,1] = n_down_init \n",
    "\n",
    "    mu_init = mu - U * (n_mat_init - 1/2)\n",
    "\n",
    "    h_up = h_2d(t,mu_init[:,:,0])\n",
    "    h_down = h_2d(t,mu_init[:,:,1])\n",
    "\n",
    "    h = np.kron([[1,0],[0,0]],h_up) + np.kron([[0,0],[0,1]],h_down)\n",
    "    eigenvalues, eigenvectors = np.linalg.eig(h)\n",
    "    sorted_indices = np.argsort(eigenvalues)\n",
    "    sorted_eigenvalues= eigenvalues[sorted_indices]\n",
    "    sorted_eigenvectors= eigenvectors[:, sorted_indices]\n",
    "    gs_energy_init = np.sum(sorted_eigenvalues[:L**2])\n",
    "\n",
    "\n",
    "    conv_fields = 100\n",
    "    conv_fields_arr = []\n",
    "\n",
    "    conv_energy = 100\n",
    "    conv_energy_arr = []\n",
    "\n",
    "    while conv_fields + conv_energy > 1e-8:\n",
    "        h_up = h_2d(t,mu_init[:,:,0])\n",
    "        h_down = h_2d(t,mu_init[:,:,1])\n",
    "\n",
    "        h = np.kron([[1,0],[0,0]],h_up) + np.kron([[0,0],[0,1]],h_down)\n",
    "        eigenvalues, eigenvectors = np.linalg.eig(h)\n",
    "        sorted_indices = np.argsort(eigenvalues)\n",
    "        sorted_eigenvalues= eigenvalues[sorted_indices]\n",
    "        sorted_eigenvectors= eigenvectors[:, sorted_indices]\n",
    "        gs_energy_new = np.sum(sorted_eigenvalues[:L**2])\n",
    "\n",
    "        new_mu = get_new_mu(sorted_eigenvectors[:,:L**2],U,mu)\n",
    "\n",
    "        conv_fields = np.linalg.norm(new_mu-mu_init)\n",
    "        conv_energy = np.linalg.norm(gs_energy_new - gs_energy_init)\n",
    "        gs_energy_init = gs_energy_new\n",
    "        mu_init = new_mu\n",
    "        conv_fields_arr.append(conv_fields)\n",
    "        conv_energy_arr.append(conv_energy)\n",
    "    return gs_energy_new, new_mu\n",
    "\n"
   ]
  },
  {
   "cell_type": "markdown",
   "id": "0ec6f7ac",
   "metadata": {},
   "source": [
    "# different $U$"
   ]
  },
  {
   "cell_type": "code",
   "execution_count": 130,
   "id": "b17cad2b",
   "metadata": {},
   "outputs": [
    {
     "name": "stdout",
     "output_type": "stream",
     "text": [
      "GS energy = -21.931387535224623\n"
     ]
    },
    {
     "data": {
      "text/plain": [
       "<matplotlib.image.AxesImage at 0x16eaecf10>"
      ]
     },
     "execution_count": 130,
     "metadata": {},
     "output_type": "execute_result"
    },
    {
     "data": {
      "image/png": "[encoded data removed]",
      "text/plain": [
       "<Figure size 640x480 with 2 Axes>"
      ]
     },
     "metadata": {},
     "output_type": "display_data"
    }
   ],
   "source": [
    "gs_energy_new, new_mu = do_HF(U=0.1)\n",
    "print('GS energy = ' + str(gs_energy_new))\n",
    "f, axarr = plt.subplots(2)\n",
    "axarr[0].imshow(new_mu[:,:,0],label='up')\n",
    "axarr[1].imshow(new_mu[:,:,1],label='down')\n"
   ]
  },
  {
   "cell_type": "code",
   "execution_count": 131,
   "id": "014a2e73",
   "metadata": {},
   "outputs": [
    {
     "name": "stdout",
     "output_type": "stream",
     "text": [
      "GS energy = -22.13580999884295\n"
     ]
    },
    {
     "data": {
      "text/plain": [
       "<matplotlib.image.AxesImage at 0x16ee0f910>"
      ]
     },
     "execution_count": 131,
     "metadata": {},
     "output_type": "execute_result"
    },
    {
     "data": {
      "image/png": "[encoded data removed]",
      "text/plain": [
       "<Figure size 640x480 with 2 Axes>"
      ]
     },
     "metadata": {},
     "output_type": "display_data"
    }
   ],
   "source": [
    "gs_energy_new, new_mu = do_HF(U=0.5)\n",
    "print('GS energy = ' + str(gs_energy_new))\n",
    "f, axarr = plt.subplots(2)\n",
    "axarr[0].imshow(new_mu[:,:,0],label='up')\n",
    "axarr[1].imshow(new_mu[:,:,1],label='down')\n"
   ]
  },
  {
   "cell_type": "code",
   "execution_count": 132,
   "id": "7d32ec92",
   "metadata": {},
   "outputs": [
    {
     "name": "stdout",
     "output_type": "stream",
     "text": [
      "GS energy = -22.409919787013674\n"
     ]
    },
    {
     "data": {
      "text/plain": [
       "<matplotlib.image.AxesImage at 0x16ebf4650>"
      ]
     },
     "execution_count": 132,
     "metadata": {},
     "output_type": "execute_result"
    },
    {
     "data": {
      "image/png": "[encoded data removed]",
      "text/plain": [
       "<Figure size 640x480 with 2 Axes>"
      ]
     },
     "metadata": {},
     "output_type": "display_data"
    }
   ],
   "source": [
    "gs_energy_new, new_mu = do_HF(U=1)\n",
    "print('GS energy = ' + str(gs_energy_new))\n",
    "f, axarr = plt.subplots(2)\n",
    "axarr[0].imshow(new_mu[:,:,0],label='up')\n",
    "axarr[1].imshow(new_mu[:,:,1],label='down')\n"
   ]
  },
  {
   "cell_type": "code",
   "execution_count": 133,
   "id": "2837e6e4",
   "metadata": {},
   "outputs": [
    {
     "name": "stdout",
     "output_type": "stream",
     "text": [
      "GS energy = -23.04039863030698\n"
     ]
    },
    {
     "data": {
      "text/plain": [
       "<matplotlib.image.AxesImage at 0x16ed50310>"
      ]
     },
     "execution_count": 133,
     "metadata": {},
     "output_type": "execute_result"
    },
    {
     "data": {
      "image/png": "[encoded data removed]",
      "text/plain": [
       "<Figure size 640x480 with 2 Axes>"
      ]
     },
     "metadata": {},
     "output_type": "display_data"
    }
   ],
   "source": [
    "gs_energy_new, new_mu = do_HF(U=2)\n",
    "print('GS energy = ' + str(gs_energy_new))\n",
    "f, axarr = plt.subplots(2)\n",
    "axarr[0].imshow(new_mu[:,:,0],label='up')\n",
    "axarr[1].imshow(new_mu[:,:,1],label='down')\n"
   ]
  },
  {
   "cell_type": "code",
   "execution_count": 134,
   "id": "46833f5b",
   "metadata": {},
   "outputs": [
    {
     "name": "stdout",
     "output_type": "stream",
     "text": [
      "GS energy = -40.41882862116863\n"
     ]
    },
    {
     "data": {
      "text/plain": [
       "<matplotlib.image.AxesImage at 0x16efbf790>"
      ]
     },
     "execution_count": 134,
     "metadata": {},
     "output_type": "execute_result"
    },
    {
     "data": {
      "image/png": "[encoded data removed]",
      "text/plain": [
       "<Figure size 640x480 with 2 Axes>"
      ]
     },
     "metadata": {},
     "output_type": "display_data"
    }
   ],
   "source": [
    "gs_energy_new, new_mu = do_HF(U=5)\n",
    "print('GS energy = ' + str(gs_energy_new))\n",
    "f, axarr = plt.subplots(2)\n",
    "axarr[0].imshow(new_mu[:,:,0],label='up')\n",
    "axarr[1].imshow(new_mu[:,:,1],label='down')\n"
   ]
  },
  {
   "cell_type": "code",
   "execution_count": null,
   "id": "0127efb0",
   "metadata": {},
   "outputs": [],
   "source": []
  },
  {
   "cell_type": "markdown",
   "id": "baf7fcc9",
   "metadata": {},
   "source": [
    "# ed v. hf"
   ]
  },
  {
   "cell_type": "code",
   "execution_count": 139,
   "id": "342663e6",
   "metadata": {},
   "outputs": [
    {
     "data": {
      "text/plain": [
       "-5.723265519527187"
      ]
     },
     "execution_count": 139,
     "metadata": {},
     "output_type": "execute_result"
    }
   ],
   "source": [
    "#helper functions \n",
    "\n",
    "# full space dictionary (strings)\n",
    "def create_statedict_total(L):\n",
    "    D = int(2 ** L)  \n",
    "    states_dict = {}\n",
    "    ctr = 0\n",
    "    for i in range(D):\n",
    "        for j in range(D):\n",
    "            up = (bin(i)[2:])\n",
    "            down = (bin(j)[2:])\n",
    "            up = '0'*(L-len(up)) + up \n",
    "            down = '0'*(L-len(down)) + down \n",
    "            states_dict[ctr] = [up,down] \n",
    "            ctr += 1\n",
    "    return states_dict\n",
    "\n",
    "# spinless space dictionary (strings)\n",
    "def create_statedict_single(L):\n",
    "    d = 2 #local Hilbert space dimension\n",
    "    D = int(d ** L) #total Hilbert space direction\n",
    "    states_dict = {}\n",
    "    for i in range((D)):\n",
    "        state = bin(i)[2:]\n",
    "        state = '0'*(L-len(state)) + state \n",
    "        states_dict[i] = state \n",
    "    return states_dict\n",
    "\n",
    "# binary search for spinless space\n",
    "def find_ind_single(state,lookup):\n",
    "    #state is in binary\n",
    "    low = 0\n",
    "    high = len(lookup)\n",
    "    mid = int(len(lookup)/2)\n",
    "    while True:\n",
    "        if int(lookup[mid],2) < int(state,2):\n",
    "            low = mid\n",
    "            mid = int((low+high)/2)\n",
    "        elif int(lookup[mid],2) > int(state,2):\n",
    "            high = mid\n",
    "            mid = int((low+high)/2)\n",
    "        elif int(lookup[mid],2) == int(state,2):\n",
    "            return mid \n",
    "\n",
    "#binary search for full space\n",
    "def find_ind_full(state,lookup):\n",
    "    #state is a tuple of binaries\n",
    "    low = 0\n",
    "    high = len(lookup)\n",
    "    mid = int(len(lookup)/2)\n",
    "    while True:\n",
    "        if int(''.join(lookup[mid]),2) < int(''.join(state),2):\n",
    "            low = mid\n",
    "            mid = int((low+high)/2)\n",
    "        elif int(''.join(lookup[mid]),2) > int(''.join(state),2):\n",
    "            high = mid\n",
    "            mid = int((low+high)/2)\n",
    "        elif int(''.join(lookup[mid]),2) == int(''.join(state),2):\n",
    "            return mid \n",
    "\n",
    "#flip a state at specified sites\n",
    "def flipbits_single(state,i,j):\n",
    "    copystate = state \n",
    "    copystate = list(copystate)\n",
    "    bit_i = state[i]\n",
    "    bit_j = state[j]\n",
    "    if bit_i == '0':\n",
    "        copystate[i] = '1'\n",
    "    else:\n",
    "        copystate[i] = '0'\n",
    "    if bit_j == '0':\n",
    "        copystate[j] = '1'\n",
    "    else:\n",
    "        copystate[j] = '0'\n",
    "    copystate = ''.join(copystate)\n",
    "    return copystate\n",
    "\n",
    "# count number of excitations between two sites\n",
    "def count_excitations(state,site1,site2):\n",
    "    ctr = 0\n",
    "    for site in range(site1+1,site2):\n",
    "        ctr += state[site]\n",
    "    return ctr\n",
    "\n",
    "# spinless hamiltonian\n",
    "def singlespin_hamil(L,t):\n",
    "    D = 2 ** L\n",
    "    H_spin = np.zeros((D, D))\n",
    "    state_dict = create_statedict_single(L)\n",
    "    for site in range(L):\n",
    "        nbr_site = (site + 1) % L\n",
    "        for index in range(D):\n",
    "            state = state_dict[index]\n",
    "            nbr_index = find_ind_single(flipbits_single(state,site,nbr_site),state_dict)\n",
    "            sign = (-1) ** (count_excitations(state,site,nbr_site))\n",
    "            if state[site] == '0' and state[nbr_site] == '1':\n",
    "                H_spin[index, nbr_index] += t * sign\n",
    "            if state[site] == '1' and state[nbr_site] == '0':\n",
    "                H_spin[index, nbr_index] += t * sign\n",
    "    return H_spin\n",
    "\n",
    "# helper fn: returns G.S. e-val\n",
    "def return_gseval(mat):\n",
    "    v, vv = np.linalg.eigh(mat)\n",
    "    sorted_indices = np.argsort(v)\n",
    "    sorted_eigenvalues = v[sorted_indices]\n",
    "    return sorted_eigenvalues[0]\n",
    "\n",
    "# full hamiltonian USING spinless module\n",
    "def full_FH_hamil(L,t,U): \n",
    "    D = (4**L)\n",
    "    H_full = np.zeros((D,D))\n",
    "    state_dict = create_statedict_total(L)\n",
    "    H_spin = singlespin_hamil(L,t)\n",
    "    H_full = np.kron(np.eye(2 ** L),H_spin) + np.kron(H_spin,np.eye(2 ** L))\n",
    "    for index in range(D):\n",
    "        state = state_dict[index]\n",
    "        ups = list(state[0]) \n",
    "        ups = [int(x) for x in ups]\n",
    "        downs = list(state[1])\n",
    "        downs = [int(x) for x in downs]\n",
    "        ups = np.array(ups) - 0.5\n",
    "        downs = np.array(downs) - 0.5\n",
    "        mul = ups * downs\n",
    "        H_full[index, index] = np.sum(mul) * U\n",
    "    return H_full\n",
    "\n",
    "# full hamiltonian from scratch\n",
    "def full_FH_hamil_direct(L,t,U):\n",
    "    D = (4**L)\n",
    "    H_full = np.zeros((D,D))\n",
    "    state_dict = create_statedict_total(L)\n",
    "    for site in range(L-1):\n",
    "        nbr_site = (site + 1) % L\n",
    "        for index in range(D):\n",
    "            state = state_dict[index]\n",
    "            state_up = state[0]\n",
    "            state_down = state[1]\n",
    "\n",
    "            # for up\n",
    "            flipped = flipbits_single(state_up,site,nbr_site)\n",
    "            flipped_state = [flipped,state_down]\n",
    "            nbr_index = find_ind_full(flipped_state,state_dict)\n",
    "            sign = (-1) ** (count_excitations(state_up,site,nbr_site))\n",
    "            if state_up[site] == '0' and state_up[nbr_site] == '1':\n",
    "                H_full[index, nbr_index] += t * sign\n",
    "            if state_up[site] == '1' and state_up[nbr_site] == '0':\n",
    "                H_full[index, nbr_index] += t * sign\n",
    "\n",
    "            # for down\n",
    "            flipped = flipbits_single(state_down,site,nbr_site)\n",
    "            flipped_state = [state_up,flipped]\n",
    "            nbr_index = find_ind_full(flipped_state,state_dict)\n",
    "            sign = (-1) ** (count_excitations(state_down,site,nbr_site))\n",
    "            if state_down[site] == '0' and state_down[nbr_site] == '1':\n",
    "                H_full[index, nbr_index] += t * sign\n",
    "            if state_down[site] == '1' and state_down[nbr_site] == '0':\n",
    "                H_full[index, nbr_index] += t * sign\n",
    "\n",
    "            ups = list(state_up) \n",
    "            ups = [int(x) for x in ups]\n",
    "            downs = list(state_down)\n",
    "            downs = [int(x) for x in downs]\n",
    "            ups = np.array(ups) - 0.5\n",
    "            downs = np.array(downs) - 0.5\n",
    "            mul = ups * downs\n",
    "            H_full[index, index] = np.sum(mul) * U\n",
    "    return H_full\n",
    "\n",
    "\n",
    "L = 4\n",
    "t = 1 \n",
    "U = 1\n",
    "state_dict = create_statedict_total(L)\n",
    "h = (full_FH_hamil(L,t,U))\n",
    "return_gseval(h)"
   ]
  },
  {
   "cell_type": "code",
   "execution_count": 136,
   "id": "80228d6f",
   "metadata": {},
   "outputs": [],
   "source": [
    "def h_1d(t,mu_arr):\n",
    "    L = len(mu_arr)\n",
    "    h = np.diag(mu_arr) + (-t) * (np.diag(np.ones(L-1),1) + np.diag(np.ones(L-1),-1))\n",
    "    return h\n",
    "\n",
    "def get_nmat(psi1d):\n",
    "    twoL= len(psi1d)\n",
    "    L = int((twoL/2))\n",
    "    nmat = np.zeros((L,2))\n",
    "\n",
    "    for k in range(L): \n",
    "        n_op_up = np.zeros((twoL,twoL))\n",
    "        n_op_down = np.zeros((twoL,twoL))\n",
    "        n_op_up[k,k] = 1 \n",
    "        n_op_down[k+L,k+L] = 1 \n",
    "\n",
    "        exp_val_up = n_op_up @ psi1d \n",
    "        exp_val_up = np.conjugate(np.transpose(psi1d)) @ exp_val_up #should be a scalar now\n",
    "        nmat[k,0] = exp_val_up\n",
    "\n",
    "        exp_val_down = n_op_down @ psi1d \n",
    "        exp_val_down = np.conjugate(np.transpose(psi1d)) @ exp_val_down #should be a scalar now\n",
    "        nmat[k,1] = exp_val_down\n",
    "\n",
    "    return nmat\n",
    "\n",
    "def get_new_mu(psi1darr,U,mu):\n",
    "    twoLsq, num_states = np.shape(psi1darr)\n",
    "    L = int((twoLsq/2))\n",
    "    nmat = np.zeros((L,2))\n",
    "    for i in range(num_states):\n",
    "        nmat += get_nmat(psi1darr[:,i])\n",
    "    newmu = mu - U * (nmat - 0.5)\n",
    "    return newmu "
   ]
  },
  {
   "cell_type": "code",
   "execution_count": 137,
   "id": "c897bb6b",
   "metadata": {},
   "outputs": [],
   "source": [
    "mu = 0 \n",
    "U = 1\n",
    "t = 1 \n",
    "L = 4\n",
    "n_up_init = np.random.rand(L)\n",
    "n_down_init = np.random.rand(L)\n",
    "n_mat_init = np.zeros((L,2))\n",
    "n_mat_init[:,0] = n_up_init \n",
    "n_mat_init[:,1] = n_down_init \n",
    "\n",
    "mu_init = mu - U * (n_mat_init - 1/2)\n",
    "\n",
    "h_up = h_1d(t,mu_init[:,0])\n",
    "h_down = h_1d(t,mu_init[:,1])\n",
    "\n",
    "h = np.kron([[1,0],[0,0]],h_up) + np.kron([[0,0],[0,1]],h_down)\n",
    "eigenvalues, eigenvectors = np.linalg.eig(h)\n",
    "sorted_indices = np.argsort(eigenvalues)\n",
    "sorted_eigenvalues= eigenvalues[sorted_indices]\n",
    "sorted_eigenvectors= eigenvectors[:, sorted_indices]\n",
    "gs_energy_init = np.sum(sorted_eigenvalues[:L])\n",
    "\n",
    "\n",
    "conv_fields = 100\n",
    "conv_fields_arr = []\n",
    "\n",
    "conv_energy = 100\n",
    "conv_energy_arr = []\n",
    "\n",
    "while conv_fields + conv_energy > 1e-12:\n",
    "    h_up = h_1d(t,mu_init[:,0])\n",
    "    h_down = h_1d(t,mu_init[:,1])\n",
    "\n",
    "    h = np.kron([[1,0],[0,0]],h_up) + np.kron([[0,0],[0,1]],h_down)\n",
    "    eigenvalues, eigenvectors = np.linalg.eig(h)\n",
    "    sorted_indices = np.argsort(eigenvalues)\n",
    "    sorted_eigenvalues= eigenvalues[sorted_indices]\n",
    "    sorted_eigenvectors= eigenvectors[:, sorted_indices]\n",
    "    gs_energy_new = np.sum(sorted_eigenvalues[:L])\n",
    "\n",
    "    new_mu = get_new_mu(sorted_eigenvectors[:,:L],U,mu)\n",
    "\n",
    "    conv_fields = np.linalg.norm(new_mu-mu_init)\n",
    "    conv_energy = np.linalg.norm(gs_energy_new - gs_energy_init)\n",
    "    gs_energy_init = gs_energy_new\n",
    "    mu_init = new_mu\n",
    "    conv_fields_arr.append(conv_fields)\n",
    "    conv_energy_arr.append(conv_energy)"
   ]
  },
  {
   "cell_type": "code",
   "execution_count": 140,
   "id": "6b0ebdb0",
   "metadata": {},
   "outputs": [
    {
     "data": {
      "text/plain": [
       "<matplotlib.legend.Legend at 0x16eaedc10>"
      ]
     },
     "execution_count": 140,
     "metadata": {},
     "output_type": "execute_result"
    },
    {
     "data": {
      "image/png": "[encoded data removed]",
      "text/plain": [
       "<Figure size 640x480 with 1 Axes>"
      ]
     },
     "metadata": {},
     "output_type": "display_data"
    }
   ],
   "source": [
    "plt.plot(conv_fields_arr,label='mean fields',linewidth=3)\n",
    "plt.plot(conv_energy_arr,label='GS energies',linewidth=3)\n",
    "plt.xlabel('iteration')\n",
    "plt.ylabel('convergence')\n",
    "plt.legend()"
   ]
  },
  {
   "cell_type": "code",
   "execution_count": 138,
   "id": "001f8c4b",
   "metadata": {},
   "outputs": [
    {
     "data": {
      "text/plain": [
       "-4.472135954999579"
      ]
     },
     "execution_count": 138,
     "metadata": {},
     "output_type": "execute_result"
    }
   ],
   "source": [
    "gs_energy_init"
   ]
  },
  {
   "cell_type": "markdown",
   "id": "1dffba0d",
   "metadata": {},
   "source": []
  }
 ],
 "metadata": {
  "kernelspec": {
   "display_name": "Python 3 (ipykernel)",
   "language": "python",
   "name": "python3"
  },
  "language_info": {
   "codemirror_mode": {
    "name": "ipython",
    "version": 3
   },
   "file_extension": ".py",
   "mimetype": "text/x-python",
   "name": "python",
   "nbconvert_exporter": "python",
   "pygments_lexer": "ipython3",
   "version": "3.11.3"
  }
 },
 "nbformat": 4,
 "nbformat_minor": 5
}
